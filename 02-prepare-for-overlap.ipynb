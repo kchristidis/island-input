{
 "cells": [
  {
   "cell_type": "markdown",
   "metadata": {},
   "source": [
    "In this notebook, we will prepare the data file that we will pass on to the `overlap` utility.\n",
    "\n",
    "See: https://github.com/kchristidis/overlap"
   ]
  },
  {
   "cell_type": "code",
   "execution_count": 1,
   "metadata": {},
   "outputs": [],
   "source": [
    "import pandas as pd"
   ]
  },
  {
   "cell_type": "markdown",
   "metadata": {},
   "source": [
    "Load the data we generated in the previous notebook."
   ]
  },
  {
   "cell_type": "code",
   "execution_count": 2,
   "metadata": {},
   "outputs": [],
   "source": [
    "df_candidate = pd.read_csv('01-segments-candidate.csv')"
   ]
  },
  {
   "cell_type": "code",
   "execution_count": 3,
   "metadata": {},
   "outputs": [
    {
     "data": {
      "text/html": [
       "<div>\n",
       "<style scoped>\n",
       "    .dataframe tbody tr th:only-of-type {\n",
       "        vertical-align: middle;\n",
       "    }\n",
       "\n",
       "    .dataframe tbody tr th {\n",
       "        vertical-align: top;\n",
       "    }\n",
       "\n",
       "    .dataframe thead th {\n",
       "        text-align: right;\n",
       "    }\n",
       "</style>\n",
       "<table border=\"1\" class=\"dataframe\">\n",
       "  <thead>\n",
       "    <tr style=\"text-align: right;\">\n",
       "      <th></th>\n",
       "      <th>dataid</th>\n",
       "      <th>city</th>\n",
       "      <th>building_type</th>\n",
       "      <th>total_square_footage</th>\n",
       "      <th>house_construction_year</th>\n",
       "      <th>egauge_min_time</th>\n",
       "      <th>egauge_max_time</th>\n",
       "    </tr>\n",
       "  </thead>\n",
       "  <tbody>\n",
       "    <tr>\n",
       "      <th>0</th>\n",
       "      <td>26</td>\n",
       "      <td>Austin</td>\n",
       "      <td>Single-Family Home</td>\n",
       "      <td>2075.0</td>\n",
       "      <td>2008.0</td>\n",
       "      <td>2012-11-03 00:00:00</td>\n",
       "      <td>2017-12-02 09:59:00</td>\n",
       "    </tr>\n",
       "    <tr>\n",
       "      <th>1</th>\n",
       "      <td>77</td>\n",
       "      <td>Austin</td>\n",
       "      <td>Single-Family Home</td>\n",
       "      <td>2669.0</td>\n",
       "      <td>2009.0</td>\n",
       "      <td>2014-06-06 05:00:00</td>\n",
       "      <td>2017-07-23 08:34:00</td>\n",
       "    </tr>\n",
       "    <tr>\n",
       "      <th>2</th>\n",
       "      <td>93</td>\n",
       "      <td>Austin</td>\n",
       "      <td>Single-Family Home</td>\n",
       "      <td>2934.0</td>\n",
       "      <td>1993.0</td>\n",
       "      <td>2012-12-09 00:00:00</td>\n",
       "      <td>2017-12-02 08:59:00</td>\n",
       "    </tr>\n",
       "    <tr>\n",
       "      <th>3</th>\n",
       "      <td>114</td>\n",
       "      <td>Austin</td>\n",
       "      <td>Single-Family Home</td>\n",
       "      <td>1842.0</td>\n",
       "      <td>2008.0</td>\n",
       "      <td>2013-10-16 00:00:00</td>\n",
       "      <td>2017-12-02 08:31:00</td>\n",
       "    </tr>\n",
       "    <tr>\n",
       "      <th>4</th>\n",
       "      <td>171</td>\n",
       "      <td>Austin</td>\n",
       "      <td>Single-Family Home</td>\n",
       "      <td>2376.0</td>\n",
       "      <td>2008.0</td>\n",
       "      <td>2012-05-03 00:00:00</td>\n",
       "      <td>2017-12-02 08:59:00</td>\n",
       "    </tr>\n",
       "  </tbody>\n",
       "</table>\n",
       "</div>"
      ],
      "text/plain": [
       "   dataid    city       building_type  total_square_footage  \\\n",
       "0      26  Austin  Single-Family Home                2075.0   \n",
       "1      77  Austin  Single-Family Home                2669.0   \n",
       "2      93  Austin  Single-Family Home                2934.0   \n",
       "3     114  Austin  Single-Family Home                1842.0   \n",
       "4     171  Austin  Single-Family Home                2376.0   \n",
       "\n",
       "   house_construction_year      egauge_min_time      egauge_max_time  \n",
       "0                   2008.0  2012-11-03 00:00:00  2017-12-02 09:59:00  \n",
       "1                   2009.0  2014-06-06 05:00:00  2017-07-23 08:34:00  \n",
       "2                   1993.0  2012-12-09 00:00:00  2017-12-02 08:59:00  \n",
       "3                   2008.0  2013-10-16 00:00:00  2017-12-02 08:31:00  \n",
       "4                   2008.0  2012-05-03 00:00:00  2017-12-02 08:59:00  "
      ]
     },
     "execution_count": 3,
     "metadata": {},
     "output_type": "execute_result"
    }
   ],
   "source": [
    "df_candidate.head()"
   ]
  },
  {
   "cell_type": "code",
   "execution_count": 4,
   "metadata": {},
   "outputs": [],
   "source": [
    "df_candidate.set_index('dataid', inplace=True)"
   ]
  },
  {
   "cell_type": "code",
   "execution_count": 5,
   "metadata": {},
   "outputs": [
    {
     "data": {
      "text/html": [
       "<div>\n",
       "<style scoped>\n",
       "    .dataframe tbody tr th:only-of-type {\n",
       "        vertical-align: middle;\n",
       "    }\n",
       "\n",
       "    .dataframe tbody tr th {\n",
       "        vertical-align: top;\n",
       "    }\n",
       "\n",
       "    .dataframe thead th {\n",
       "        text-align: right;\n",
       "    }\n",
       "</style>\n",
       "<table border=\"1\" class=\"dataframe\">\n",
       "  <thead>\n",
       "    <tr style=\"text-align: right;\">\n",
       "      <th></th>\n",
       "      <th>city</th>\n",
       "      <th>building_type</th>\n",
       "      <th>total_square_footage</th>\n",
       "      <th>house_construction_year</th>\n",
       "      <th>egauge_min_time</th>\n",
       "      <th>egauge_max_time</th>\n",
       "    </tr>\n",
       "    <tr>\n",
       "      <th>dataid</th>\n",
       "      <th></th>\n",
       "      <th></th>\n",
       "      <th></th>\n",
       "      <th></th>\n",
       "      <th></th>\n",
       "      <th></th>\n",
       "    </tr>\n",
       "  </thead>\n",
       "  <tbody>\n",
       "    <tr>\n",
       "      <th>26</th>\n",
       "      <td>Austin</td>\n",
       "      <td>Single-Family Home</td>\n",
       "      <td>2075.0</td>\n",
       "      <td>2008.0</td>\n",
       "      <td>2012-11-03 00:00:00</td>\n",
       "      <td>2017-12-02 09:59:00</td>\n",
       "    </tr>\n",
       "    <tr>\n",
       "      <th>77</th>\n",
       "      <td>Austin</td>\n",
       "      <td>Single-Family Home</td>\n",
       "      <td>2669.0</td>\n",
       "      <td>2009.0</td>\n",
       "      <td>2014-06-06 05:00:00</td>\n",
       "      <td>2017-07-23 08:34:00</td>\n",
       "    </tr>\n",
       "    <tr>\n",
       "      <th>93</th>\n",
       "      <td>Austin</td>\n",
       "      <td>Single-Family Home</td>\n",
       "      <td>2934.0</td>\n",
       "      <td>1993.0</td>\n",
       "      <td>2012-12-09 00:00:00</td>\n",
       "      <td>2017-12-02 08:59:00</td>\n",
       "    </tr>\n",
       "    <tr>\n",
       "      <th>114</th>\n",
       "      <td>Austin</td>\n",
       "      <td>Single-Family Home</td>\n",
       "      <td>1842.0</td>\n",
       "      <td>2008.0</td>\n",
       "      <td>2013-10-16 00:00:00</td>\n",
       "      <td>2017-12-02 08:31:00</td>\n",
       "    </tr>\n",
       "    <tr>\n",
       "      <th>171</th>\n",
       "      <td>Austin</td>\n",
       "      <td>Single-Family Home</td>\n",
       "      <td>2376.0</td>\n",
       "      <td>2008.0</td>\n",
       "      <td>2012-05-03 00:00:00</td>\n",
       "      <td>2017-12-02 08:59:00</td>\n",
       "    </tr>\n",
       "  </tbody>\n",
       "</table>\n",
       "</div>"
      ],
      "text/plain": [
       "          city       building_type  total_square_footage  \\\n",
       "dataid                                                     \n",
       "26      Austin  Single-Family Home                2075.0   \n",
       "77      Austin  Single-Family Home                2669.0   \n",
       "93      Austin  Single-Family Home                2934.0   \n",
       "114     Austin  Single-Family Home                1842.0   \n",
       "171     Austin  Single-Family Home                2376.0   \n",
       "\n",
       "        house_construction_year      egauge_min_time      egauge_max_time  \n",
       "dataid                                                                     \n",
       "26                       2008.0  2012-11-03 00:00:00  2017-12-02 09:59:00  \n",
       "77                       2009.0  2014-06-06 05:00:00  2017-07-23 08:34:00  \n",
       "93                       1993.0  2012-12-09 00:00:00  2017-12-02 08:59:00  \n",
       "114                      2008.0  2013-10-16 00:00:00  2017-12-02 08:31:00  \n",
       "171                      2008.0  2012-05-03 00:00:00  2017-12-02 08:59:00  "
      ]
     },
     "execution_count": 5,
     "metadata": {},
     "output_type": "execute_result"
    }
   ],
   "source": [
    "df_candidate.head()"
   ]
  },
  {
   "cell_type": "code",
   "execution_count": 6,
   "metadata": {},
   "outputs": [
    {
     "data": {
      "text/plain": [
       "city                        object\n",
       "building_type               object\n",
       "total_square_footage       float64\n",
       "house_construction_year    float64\n",
       "egauge_min_time             object\n",
       "egauge_max_time             object\n",
       "dtype: object"
      ]
     },
     "execution_count": 6,
     "metadata": {},
     "output_type": "execute_result"
    }
   ],
   "source": [
    "df_candidate.dtypes"
   ]
  },
  {
   "cell_type": "markdown",
   "metadata": {},
   "source": [
    "Recast to egauge columns datetime objects."
   ]
  },
  {
   "cell_type": "code",
   "execution_count": 7,
   "metadata": {},
   "outputs": [],
   "source": [
    "df_candidate['egauge_min_time'] = pd.to_datetime(df_candidate['egauge_min_time'])\n",
    "df_candidate['egauge_max_time'] = pd.to_datetime(df_candidate['egauge_max_time'])"
   ]
  },
  {
   "cell_type": "code",
   "execution_count": 8,
   "metadata": {},
   "outputs": [
    {
     "data": {
      "text/plain": [
       "city                               object\n",
       "building_type                      object\n",
       "total_square_footage              float64\n",
       "house_construction_year           float64\n",
       "egauge_min_time            datetime64[ns]\n",
       "egauge_max_time            datetime64[ns]\n",
       "dtype: object"
      ]
     },
     "execution_count": 8,
     "metadata": {},
     "output_type": "execute_result"
    }
   ],
   "source": [
    "df_candidate.dtypes"
   ]
  },
  {
   "cell_type": "code",
   "execution_count": 9,
   "metadata": {},
   "outputs": [
    {
     "data": {
      "text/html": [
       "<div>\n",
       "<style scoped>\n",
       "    .dataframe tbody tr th:only-of-type {\n",
       "        vertical-align: middle;\n",
       "    }\n",
       "\n",
       "    .dataframe tbody tr th {\n",
       "        vertical-align: top;\n",
       "    }\n",
       "\n",
       "    .dataframe thead th {\n",
       "        text-align: right;\n",
       "    }\n",
       "</style>\n",
       "<table border=\"1\" class=\"dataframe\">\n",
       "  <thead>\n",
       "    <tr style=\"text-align: right;\">\n",
       "      <th></th>\n",
       "      <th>city</th>\n",
       "      <th>building_type</th>\n",
       "      <th>total_square_footage</th>\n",
       "      <th>house_construction_year</th>\n",
       "      <th>egauge_min_time</th>\n",
       "      <th>egauge_max_time</th>\n",
       "    </tr>\n",
       "    <tr>\n",
       "      <th>dataid</th>\n",
       "      <th></th>\n",
       "      <th></th>\n",
       "      <th></th>\n",
       "      <th></th>\n",
       "      <th></th>\n",
       "      <th></th>\n",
       "    </tr>\n",
       "  </thead>\n",
       "  <tbody>\n",
       "    <tr>\n",
       "      <th>26</th>\n",
       "      <td>Austin</td>\n",
       "      <td>Single-Family Home</td>\n",
       "      <td>2075.0</td>\n",
       "      <td>2008.0</td>\n",
       "      <td>2012-11-03 00:00:00</td>\n",
       "      <td>2017-12-02 09:59:00</td>\n",
       "    </tr>\n",
       "    <tr>\n",
       "      <th>77</th>\n",
       "      <td>Austin</td>\n",
       "      <td>Single-Family Home</td>\n",
       "      <td>2669.0</td>\n",
       "      <td>2009.0</td>\n",
       "      <td>2014-06-06 05:00:00</td>\n",
       "      <td>2017-07-23 08:34:00</td>\n",
       "    </tr>\n",
       "    <tr>\n",
       "      <th>93</th>\n",
       "      <td>Austin</td>\n",
       "      <td>Single-Family Home</td>\n",
       "      <td>2934.0</td>\n",
       "      <td>1993.0</td>\n",
       "      <td>2012-12-09 00:00:00</td>\n",
       "      <td>2017-12-02 08:59:00</td>\n",
       "    </tr>\n",
       "    <tr>\n",
       "      <th>114</th>\n",
       "      <td>Austin</td>\n",
       "      <td>Single-Family Home</td>\n",
       "      <td>1842.0</td>\n",
       "      <td>2008.0</td>\n",
       "      <td>2013-10-16 00:00:00</td>\n",
       "      <td>2017-12-02 08:31:00</td>\n",
       "    </tr>\n",
       "    <tr>\n",
       "      <th>171</th>\n",
       "      <td>Austin</td>\n",
       "      <td>Single-Family Home</td>\n",
       "      <td>2376.0</td>\n",
       "      <td>2008.0</td>\n",
       "      <td>2012-05-03 00:00:00</td>\n",
       "      <td>2017-12-02 08:59:00</td>\n",
       "    </tr>\n",
       "  </tbody>\n",
       "</table>\n",
       "</div>"
      ],
      "text/plain": [
       "          city       building_type  total_square_footage  \\\n",
       "dataid                                                     \n",
       "26      Austin  Single-Family Home                2075.0   \n",
       "77      Austin  Single-Family Home                2669.0   \n",
       "93      Austin  Single-Family Home                2934.0   \n",
       "114     Austin  Single-Family Home                1842.0   \n",
       "171     Austin  Single-Family Home                2376.0   \n",
       "\n",
       "        house_construction_year     egauge_min_time     egauge_max_time  \n",
       "dataid                                                                   \n",
       "26                       2008.0 2012-11-03 00:00:00 2017-12-02 09:59:00  \n",
       "77                       2009.0 2014-06-06 05:00:00 2017-07-23 08:34:00  \n",
       "93                       1993.0 2012-12-09 00:00:00 2017-12-02 08:59:00  \n",
       "114                      2008.0 2013-10-16 00:00:00 2017-12-02 08:31:00  \n",
       "171                      2008.0 2012-05-03 00:00:00 2017-12-02 08:59:00  "
      ]
     },
     "execution_count": 9,
     "metadata": {},
     "output_type": "execute_result"
    }
   ],
   "source": [
    "df_candidate.head()"
   ]
  },
  {
   "cell_type": "markdown",
   "metadata": {},
   "source": [
    "Convert `egauge_min_time` and `egauge_max_time` columns into Unix timestamps, so that we can feed them into the `overlap` utility.\n",
    "\n",
    "See: https://stackoverflow.com/a/35630179/2363529"
   ]
  },
  {
   "cell_type": "code",
   "execution_count": 10,
   "metadata": {},
   "outputs": [],
   "source": [
    "df_candidate['egauge_min_time'] = df_candidate['egauge_min_time'].astype('int64')//1e9\n",
    "df_candidate['egauge_max_time'] = df_candidate['egauge_max_time'].astype('int64')//1e9"
   ]
  },
  {
   "cell_type": "code",
   "execution_count": 11,
   "metadata": {},
   "outputs": [
    {
     "data": {
      "text/plain": [
       "city                        object\n",
       "building_type               object\n",
       "total_square_footage       float64\n",
       "house_construction_year    float64\n",
       "egauge_min_time            float64\n",
       "egauge_max_time            float64\n",
       "dtype: object"
      ]
     },
     "execution_count": 11,
     "metadata": {},
     "output_type": "execute_result"
    }
   ],
   "source": [
    "df_candidate.dtypes"
   ]
  },
  {
   "cell_type": "code",
   "execution_count": 12,
   "metadata": {},
   "outputs": [
    {
     "data": {
      "text/html": [
       "<div>\n",
       "<style scoped>\n",
       "    .dataframe tbody tr th:only-of-type {\n",
       "        vertical-align: middle;\n",
       "    }\n",
       "\n",
       "    .dataframe tbody tr th {\n",
       "        vertical-align: top;\n",
       "    }\n",
       "\n",
       "    .dataframe thead th {\n",
       "        text-align: right;\n",
       "    }\n",
       "</style>\n",
       "<table border=\"1\" class=\"dataframe\">\n",
       "  <thead>\n",
       "    <tr style=\"text-align: right;\">\n",
       "      <th></th>\n",
       "      <th>city</th>\n",
       "      <th>building_type</th>\n",
       "      <th>total_square_footage</th>\n",
       "      <th>house_construction_year</th>\n",
       "      <th>egauge_min_time</th>\n",
       "      <th>egauge_max_time</th>\n",
       "    </tr>\n",
       "    <tr>\n",
       "      <th>dataid</th>\n",
       "      <th></th>\n",
       "      <th></th>\n",
       "      <th></th>\n",
       "      <th></th>\n",
       "      <th></th>\n",
       "      <th></th>\n",
       "    </tr>\n",
       "  </thead>\n",
       "  <tbody>\n",
       "    <tr>\n",
       "      <th>26</th>\n",
       "      <td>Austin</td>\n",
       "      <td>Single-Family Home</td>\n",
       "      <td>2075.0</td>\n",
       "      <td>2008.0</td>\n",
       "      <td>1.351901e+09</td>\n",
       "      <td>1.512209e+09</td>\n",
       "    </tr>\n",
       "    <tr>\n",
       "      <th>77</th>\n",
       "      <td>Austin</td>\n",
       "      <td>Single-Family Home</td>\n",
       "      <td>2669.0</td>\n",
       "      <td>2009.0</td>\n",
       "      <td>1.402031e+09</td>\n",
       "      <td>1.500799e+09</td>\n",
       "    </tr>\n",
       "    <tr>\n",
       "      <th>93</th>\n",
       "      <td>Austin</td>\n",
       "      <td>Single-Family Home</td>\n",
       "      <td>2934.0</td>\n",
       "      <td>1993.0</td>\n",
       "      <td>1.355011e+09</td>\n",
       "      <td>1.512205e+09</td>\n",
       "    </tr>\n",
       "    <tr>\n",
       "      <th>114</th>\n",
       "      <td>Austin</td>\n",
       "      <td>Single-Family Home</td>\n",
       "      <td>1842.0</td>\n",
       "      <td>2008.0</td>\n",
       "      <td>1.381882e+09</td>\n",
       "      <td>1.512203e+09</td>\n",
       "    </tr>\n",
       "    <tr>\n",
       "      <th>171</th>\n",
       "      <td>Austin</td>\n",
       "      <td>Single-Family Home</td>\n",
       "      <td>2376.0</td>\n",
       "      <td>2008.0</td>\n",
       "      <td>1.336003e+09</td>\n",
       "      <td>1.512205e+09</td>\n",
       "    </tr>\n",
       "  </tbody>\n",
       "</table>\n",
       "</div>"
      ],
      "text/plain": [
       "          city       building_type  total_square_footage  \\\n",
       "dataid                                                     \n",
       "26      Austin  Single-Family Home                2075.0   \n",
       "77      Austin  Single-Family Home                2669.0   \n",
       "93      Austin  Single-Family Home                2934.0   \n",
       "114     Austin  Single-Family Home                1842.0   \n",
       "171     Austin  Single-Family Home                2376.0   \n",
       "\n",
       "        house_construction_year  egauge_min_time  egauge_max_time  \n",
       "dataid                                                             \n",
       "26                       2008.0     1.351901e+09     1.512209e+09  \n",
       "77                       2009.0     1.402031e+09     1.500799e+09  \n",
       "93                       1993.0     1.355011e+09     1.512205e+09  \n",
       "114                      2008.0     1.381882e+09     1.512203e+09  \n",
       "171                      2008.0     1.336003e+09     1.512205e+09  "
      ]
     },
     "execution_count": 12,
     "metadata": {},
     "output_type": "execute_result"
    }
   ],
   "source": [
    "df_candidate.head()"
   ]
  },
  {
   "cell_type": "markdown",
   "metadata": {},
   "source": [
    "Create a CSV file that contains just the necessary columns for `overlap`."
   ]
  },
  {
   "cell_type": "code",
   "execution_count": 13,
   "metadata": {},
   "outputs": [
    {
     "data": {
      "text/html": [
       "<div>\n",
       "<style scoped>\n",
       "    .dataframe tbody tr th:only-of-type {\n",
       "        vertical-align: middle;\n",
       "    }\n",
       "\n",
       "    .dataframe tbody tr th {\n",
       "        vertical-align: top;\n",
       "    }\n",
       "\n",
       "    .dataframe thead th {\n",
       "        text-align: right;\n",
       "    }\n",
       "</style>\n",
       "<table border=\"1\" class=\"dataframe\">\n",
       "  <thead>\n",
       "    <tr style=\"text-align: right;\">\n",
       "      <th></th>\n",
       "      <th>egauge_min_time</th>\n",
       "      <th>egauge_max_time</th>\n",
       "    </tr>\n",
       "    <tr>\n",
       "      <th>dataid</th>\n",
       "      <th></th>\n",
       "      <th></th>\n",
       "    </tr>\n",
       "  </thead>\n",
       "  <tbody>\n",
       "    <tr>\n",
       "      <th>26</th>\n",
       "      <td>1.351901e+09</td>\n",
       "      <td>1.512209e+09</td>\n",
       "    </tr>\n",
       "    <tr>\n",
       "      <th>77</th>\n",
       "      <td>1.402031e+09</td>\n",
       "      <td>1.500799e+09</td>\n",
       "    </tr>\n",
       "    <tr>\n",
       "      <th>93</th>\n",
       "      <td>1.355011e+09</td>\n",
       "      <td>1.512205e+09</td>\n",
       "    </tr>\n",
       "    <tr>\n",
       "      <th>114</th>\n",
       "      <td>1.381882e+09</td>\n",
       "      <td>1.512203e+09</td>\n",
       "    </tr>\n",
       "    <tr>\n",
       "      <th>171</th>\n",
       "      <td>1.336003e+09</td>\n",
       "      <td>1.512205e+09</td>\n",
       "    </tr>\n",
       "  </tbody>\n",
       "</table>\n",
       "</div>"
      ],
      "text/plain": [
       "        egauge_min_time  egauge_max_time\n",
       "dataid                                  \n",
       "26         1.351901e+09     1.512209e+09\n",
       "77         1.402031e+09     1.500799e+09\n",
       "93         1.355011e+09     1.512205e+09\n",
       "114        1.381882e+09     1.512203e+09\n",
       "171        1.336003e+09     1.512205e+09"
      ]
     },
     "execution_count": 13,
     "metadata": {},
     "output_type": "execute_result"
    }
   ],
   "source": [
    "df_candidate[['egauge_min_time', 'egauge_max_time']].head()"
   ]
  },
  {
   "cell_type": "code",
   "execution_count": 14,
   "metadata": {},
   "outputs": [],
   "source": [
    "df_candidate[['egauge_min_time', 'egauge_max_time']].to_csv('02-segments-candidate-unix.csv')"
   ]
  },
  {
   "cell_type": "markdown",
   "metadata": {},
   "source": [
    "Install `overlap`, then execute it as follows:\n",
    "\n",
    "    overlap -headers 02-segments-candidate-unix.csv 02-segments-overlap.csv"
   ]
  }
 ],
 "metadata": {
  "kernelspec": {
   "display_name": "Python 3",
   "language": "python",
   "name": "python3"
  },
  "language_info": {
   "codemirror_mode": {
    "name": "ipython",
    "version": 3
   },
   "file_extension": ".py",
   "mimetype": "text/x-python",
   "name": "python",
   "nbconvert_exporter": "python",
   "pygments_lexer": "ipython3",
   "version": "3.5.4"
  }
 },
 "nbformat": 4,
 "nbformat_minor": 2
}
